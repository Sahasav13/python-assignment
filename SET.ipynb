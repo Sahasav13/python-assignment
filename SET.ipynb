{
  "metadata": {
    "kernelspec": {
      "name": "python",
      "display_name": "Python (Pyodide)",
      "language": "python"
    },
    "language_info": {
      "codemirror_mode": {
        "name": "python",
        "version": 3
      },
      "file_extension": ".py",
      "mimetype": "text/x-python",
      "name": "python",
      "nbconvert_exporter": "python",
      "pygments_lexer": "ipython3",
      "version": "3.8"
    }
  },
  "nbformat_minor": 5,
  "nbformat": 4,
  "cells": [
    {
      "id": "c7272d91-7cec-48f4-82da-444732e57c4a",
      "cell_type": "code",
      "source": "#set union\nset1={1,2,3,4}\nset2={5,6,7,8}\nset3={9,10}\nprint(set1 | set2 | set3)\nprint(set1.union(set2).union(set3))",
      "metadata": {
        "trusted": true
      },
      "outputs": [
        {
          "name": "stdout",
          "output_type": "stream",
          "text": "{1, 2, 3, 4, 5, 6, 7, 8, 9, 10}\n{1, 2, 3, 4, 5, 6, 7, 8, 9, 10}\n"
        }
      ],
      "execution_count": 2
    },
    {
      "id": "96d8197f-4c3a-48a1-ae4d-3aa9bf0f9f79",
      "cell_type": "code",
      "source": "#set intersection\nset1={2,1,8,6,10}\nset2={10,4,5,6}\nset3={6,8,14,7,10}\nprint(set1 & set2& set3)\nprint(set1.intersection(set2).intersection(set3))",
      "metadata": {
        "trusted": true
      },
      "outputs": [
        {
          "name": "stdout",
          "output_type": "stream",
          "text": "{10, 6}\n{10, 6}\n"
        }
      ],
      "execution_count": 3
    },
    {
      "id": "40a28a53-56b0-4520-93cb-23edd317f53d",
      "cell_type": "code",
      "source": "#set difference\nset1={8,9,12,13,14}\nset2={22,23,13,12,32}\nset3={13,16,22,14,16}\nprint(set1.difference(set2).difference(set3))\nprint(set1-set2-set3)\n",
      "metadata": {
        "trusted": true
      },
      "outputs": [
        {
          "name": "stdout",
          "output_type": "stream",
          "text": "{8, 9}\n{8, 9}\n"
        }
      ],
      "execution_count": 11
    },
    {
      "id": "e3ae980f-37e8-4619-a796-abf083fd8bab",
      "cell_type": "code",
      "source": "",
      "metadata": {
        "trusted": true
      },
      "outputs": [],
      "execution_count": null
    },
    {
      "id": "5ebaa681-28f2-4d46-91bb-cfd4daafaf2a",
      "cell_type": "code",
      "source": "",
      "metadata": {
        "trusted": true
      },
      "outputs": [],
      "execution_count": null
    }
  ]
}