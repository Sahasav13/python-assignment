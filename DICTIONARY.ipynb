{
  "metadata": {
    "kernelspec": {
      "name": "python",
      "display_name": "Python (Pyodide)",
      "language": "python"
    },
    "language_info": {
      "codemirror_mode": {
        "name": "python",
        "version": 3
      },
      "file_extension": ".py",
      "mimetype": "text/x-python",
      "name": "python",
      "nbconvert_exporter": "python",
      "pygments_lexer": "ipython3",
      "version": "3.8"
    }
  },
  "nbformat_minor": 5,
  "nbformat": 4,
  "cells": [
    {
      "id": "a165fefb-074c-4f43-b39d-90f731460f5b",
      "cell_type": "code",
      "source": "D = [{'NAME':'SAHA AJAI VIKRAM',\n     'AGE' : '21',\n     'CITY' : 'ERODE',\n     'JAPANESE LEVEL' : 'N4'}]\nprint(D)",
      "metadata": {
        "trusted": true
      },
      "outputs": [
        {
          "name": "stdout",
          "output_type": "stream",
          "text": "[{'NAME': 'SAHA AJAI VIKRAM', 'AGE': '21', 'CITY': 'ERODE', 'JAPANESE LEVEL': 'N4'}]\n"
        }
      ],
      "execution_count": 4
    },
    {
      "id": "33f8d79e-fd42-4db4-ba27-02d709c8321b",
      "cell_type": "code",
      "source": "",
      "metadata": {
        "trusted": true
      },
      "outputs": [],
      "execution_count": null
    }
  ]
}