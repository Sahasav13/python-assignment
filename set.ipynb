{
  "metadata": {
    "kernelspec": {
      "name": "python",
      "display_name": "Python (Pyodide)",
      "language": "python"
    },
    "language_info": {
      "codemirror_mode": {
        "name": "python",
        "version": 3
      },
      "file_extension": ".py",
      "mimetype": "text/x-python",
      "name": "python",
      "nbconvert_exporter": "python",
      "pygments_lexer": "ipython3",
      "version": "3.8"
    },
    "colab": {
      "provenance": [],
      "include_colab_link": true
    }
  },
  "nbformat_minor": 5,
  "nbformat": 4,
  "cells": [
    {
      "cell_type": "markdown",
      "metadata": {
        "id": "view-in-github",
        "colab_type": "text"
      },
      "source": [
        "<a href=\"https://colab.research.google.com/github/Sahasav13/python-assignment/blob/main/set.ipynb\" target=\"_parent\"><img src=\"https://colab.research.google.com/assets/colab-badge.svg\" alt=\"Open In Colab\"/></a>"
      ]
    },
    {
      "id": "03fad86b-7550-4c6d-915b-11cb1a412a6a",
      "cell_type": "code",
      "source": [
        "set1={1,2,3,4,5,6,7}\n",
        "print(set1)"
      ],
      "metadata": {
        "trusted": true,
        "id": "03fad86b-7550-4c6d-915b-11cb1a412a6a",
        "outputId": "c73a965c-13b9-4418-d2b8-bc2b701662ec"
      },
      "outputs": [
        {
          "name": "stdout",
          "output_type": "stream",
          "text": "{1, 2, 3, 4, 5, 6, 7}\n"
        }
      ],
      "execution_count": null
    },
    {
      "id": "3cd2c65e-a068-45ad-a49a-0b0d7ac5d546",
      "cell_type": "code",
      "source": [
        "set2={13,7,18.1,\"str\",True}\n",
        "print(set2)\n"
      ],
      "metadata": {
        "trusted": true,
        "id": "3cd2c65e-a068-45ad-a49a-0b0d7ac5d546",
        "outputId": "bb0ba4e1-23d8-45c2-a9af-ee02097ff558"
      },
      "outputs": [
        {
          "name": "stdout",
          "output_type": "stream",
          "text": "{True, 7, 'str', 13, 18.1}\n"
        }
      ],
      "execution_count": null
    },
    {
      "id": "3b62c97b-48eb-4200-9021-5a306bf68804",
      "cell_type": "code",
      "source": [
        "set2.remove(13)\n",
        "set2"
      ],
      "metadata": {
        "trusted": true,
        "id": "3b62c97b-48eb-4200-9021-5a306bf68804",
        "outputId": "df948413-b2c9-4986-b7fb-d7a119e89753"
      },
      "outputs": [
        {
          "execution_count": 3,
          "output_type": "execute_result",
          "data": {
            "text/plain": "{18.1, 7, True, 'str'}"
          },
          "metadata": {}
        }
      ],
      "execution_count": null
    },
    {
      "id": "1abefce5-f9bf-434c-b05b-c9be2aabb541",
      "cell_type": "code",
      "source": [
        "set1.update({8,9,10})\n",
        "set1"
      ],
      "metadata": {
        "trusted": true,
        "id": "1abefce5-f9bf-434c-b05b-c9be2aabb541",
        "outputId": "88e490e1-d469-42d8-f018-3ff1cc91a790"
      },
      "outputs": [
        {
          "execution_count": 5,
          "output_type": "execute_result",
          "data": {
            "text/plain": "{1, 2, 3, 4, 5, 6, 7, 8, 9, 10}"
          },
          "metadata": {}
        }
      ],
      "execution_count": null
    },
    {
      "id": "0579b00e-b955-4aea-906e-c6c3972bd774",
      "cell_type": "code",
      "source": [
        "set2.add(\"saha\")\n",
        "set2"
      ],
      "metadata": {
        "trusted": true,
        "id": "0579b00e-b955-4aea-906e-c6c3972bd774",
        "outputId": "ead0b3d3-6480-43a5-ff59-03fc3280a78e"
      },
      "outputs": [
        {
          "execution_count": 6,
          "output_type": "execute_result",
          "data": {
            "text/plain": "{18.1, 7, True, 'saha', 'str'}"
          },
          "metadata": {}
        }
      ],
      "execution_count": null
    },
    {
      "id": "3a167804-9217-4c6e-a2bc-ba978a3778fa",
      "cell_type": "code",
      "source": [],
      "metadata": {
        "trusted": true,
        "id": "3a167804-9217-4c6e-a2bc-ba978a3778fa"
      },
      "outputs": [],
      "execution_count": null
    }
  ]
}